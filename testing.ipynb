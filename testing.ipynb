{
 "cells": [
  {
   "cell_type": "code",
   "execution_count": 1,
   "metadata": {},
   "outputs": [],
   "source": [
    "from osgeo import gdal, ogr"
   ]
  },
  {
   "cell_type": "code",
   "execution_count": 2,
   "metadata": {},
   "outputs": [
    {
     "data": {
      "text/plain": [
       "osgeo.gdal.Dataset"
      ]
     },
     "execution_count": 2,
     "metadata": {},
     "output_type": "execute_result"
    }
   ],
   "source": [
    "input_raster = gdal.Open(r\"data\\original\\bathymetry_hawaii.tif\")\n",
    "type(input_raster)"
   ]
  },
  {
   "cell_type": "code",
   "execution_count": 3,
   "metadata": {},
   "outputs": [
    {
     "data": {
      "text/plain": [
       "'GEOGCS[\"WGS 84\",DATUM[\"WGS_1984\",SPHEROID[\"WGS 84\",6378137,298.257223563,AUTHORITY[\"EPSG\",\"7030\"]],AUTHORITY[\"EPSG\",\"6326\"]],PRIMEM[\"Greenwich\",0],UNIT[\"degree\",0.0174532925199433,AUTHORITY[\"EPSG\",\"9122\"]],AXIS[\"Latitude\",NORTH],AXIS[\"Longitude\",EAST],AUTHORITY[\"EPSG\",\"4326\"]]'"
      ]
     },
     "execution_count": 3,
     "metadata": {},
     "output_type": "execute_result"
    }
   ],
   "source": [
    "# Projection\n",
    "input_raster.GetProjection()"
   ]
  },
  {
   "cell_type": "code",
   "execution_count": 8,
   "metadata": {},
   "outputs": [],
   "source": [
    "input_shape_3mile = \"https://opendata.arcgis.com/datasets/82fb905c78064559905c8d932b63478b_31.geojson\"\n",
    "output_raster_3mile = \"data\\processed/output_3mile.tif\"\n",
    "\n",
    "ds = gdal.Warp(output_raster_3mile,\n",
    "              input_raster,\n",
    "              cropToCutline=True,\n",
    "              cutlineDSName = input_shape_3mile, # or any other file format\n",
    "              format = 'GTiff',\n",
    "              dstNodata = -9999) # select the no data value you like\n",
    "ds=None #do other stuff with ds object, it is your cropped dataset. in this case we only close the dataset. "
   ]
  },
  {
   "cell_type": "code",
   "execution_count": 18,
   "metadata": {},
   "outputs": [],
   "source": [
    "input_shape_coastline = \"https://opendata.arcgis.com/datasets/045b1d5147634e2380566668e04094c6_3.geojson\"\n",
    "output_raster_coastline = \"data\\processed/output_coastline.tif\"\n",
    "pixel_size = 0.01\n",
    "\n",
    "ds2 = gdal.Rasterize(output_raster_coastline, input_shape_coastline, xRes=pixel_size, yRes=pixel_size, \n",
    "                    attribute='data',outputBounds=input_shape_coastline, \n",
    "                    outputType=gdal.GDT_Byte)\n",
    "ds2 = None"
   ]
  },
  {
   "cell_type": "code",
   "execution_count": null,
   "metadata": {},
   "outputs": [],
   "source": [
    "gdal.RasterizeLayer(raster_dataset, [1], shape_layer, None, None, [1], ['ALL_TOUCHED=TRUE'])\n"
   ]
  }
 ],
 "metadata": {
  "interpreter": {
   "hash": "4dce84d1d0b0a2614014f50ddc754a85fcae7539a149decca85d87d7385cd97c"
  },
  "kernelspec": {
   "display_name": "Python 3.10.2 ('gps_project')",
   "language": "python",
   "name": "python3"
  },
  "language_info": {
   "codemirror_mode": {
    "name": "ipython",
    "version": 3
   },
   "file_extension": ".py",
   "mimetype": "text/x-python",
   "name": "python",
   "nbconvert_exporter": "python",
   "pygments_lexer": "ipython3",
   "version": "3.10.2"
  },
  "orig_nbformat": 4
 },
 "nbformat": 4,
 "nbformat_minor": 2
}
