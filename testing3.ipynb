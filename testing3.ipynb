{
 "cells": [
  {
   "cell_type": "markdown",
   "metadata": {},
   "source": [
    "Testing psycopg2"
   ]
  },
  {
   "cell_type": "code",
   "execution_count": 2,
   "metadata": {},
   "outputs": [],
   "source": [
    "import psycopg2\n",
    "import osgeo.ogr\n",
    "import shapely\n",
    "import shapely.wkt\n",
    "import geopandas as gpd\n"
   ]
  },
  {
   "cell_type": "code",
   "execution_count": 3,
   "metadata": {},
   "outputs": [],
   "source": [
    "connection = psycopg2.connect(database=\"geotech_ocean_haz\",user=\"postgres\", password=\"postgres\")\n",
    "\n",
    "#set up a cursor object which is used to issue commands.\n",
    "cursor = connection.cursor()"
   ]
  },
  {
   "cell_type": "code",
   "execution_count": 14,
   "metadata": {},
   "outputs": [],
   "source": [
    "cursor.execute(\n",
    "    \"SELECT objectid, seabed, geometry FROM bottom_type\"\n",
    "    )\n",
    "\n",
    "    f'''SELECT * \n",
    "    FROM shark_attacks as s\n",
    "    WHERE st_intersects(s.geometry, \n",
    "\tst_buffer(st_setsrid(st_makepoint({x}, {y}),4326),0.2))'''\n",
    "\n",
    "    'st_transform(geom, 6576)'"
   ]
  },
  {
   "cell_type": "code",
   "execution_count": 15,
   "metadata": {},
   "outputs": [
    {
     "name": "stderr",
     "output_type": "stream",
     "text": [
      "C:\\Users\\USUARIO\\AppData\\Local\\Temp\\ipykernel_12244\\2398447621.py:5: FutureWarning: Assigning CRS to a GeoDataFrame without a geometry column is now deprecated and will not be supported in the future.\n",
      "  gdf=gpd.GeoDataFrame(rows_list,crs='epsg:4326')\n"
     ]
    },
    {
     "data": {
      "text/html": [
       "<div>\n",
       "<style scoped>\n",
       "    .dataframe tbody tr th:only-of-type {\n",
       "        vertical-align: middle;\n",
       "    }\n",
       "\n",
       "    .dataframe tbody tr th {\n",
       "        vertical-align: top;\n",
       "    }\n",
       "\n",
       "    .dataframe thead th {\n",
       "        text-align: right;\n",
       "    }\n",
       "</style>\n",
       "<table border=\"1\" class=\"dataframe\">\n",
       "  <thead>\n",
       "    <tr style=\"text-align: right;\">\n",
       "      <th></th>\n",
       "      <th>objectid</th>\n",
       "      <th>SEABED</th>\n",
       "      <th>geometry</th>\n",
       "    </tr>\n",
       "  </thead>\n",
       "  <tbody>\n",
       "    <tr>\n",
       "      <th>0</th>\n",
       "      <td>1</td>\n",
       "      <td>Sand</td>\n",
       "      <td>0101000020E6100000AEDCB3D693F663C0D9174C0ED1ED...</td>\n",
       "    </tr>\n",
       "    <tr>\n",
       "      <th>1</th>\n",
       "      <td>2</td>\n",
       "      <td>Coral</td>\n",
       "      <td>0101000020E61000004D9FE324BDF663C0E9F24FF6DFEF...</td>\n",
       "    </tr>\n",
       "    <tr>\n",
       "      <th>2</th>\n",
       "      <td>3</td>\n",
       "      <td>Gravel</td>\n",
       "      <td>0101000020E61000007CC77D22A8F663C07E0CDA25CEEF...</td>\n",
       "    </tr>\n",
       "    <tr>\n",
       "      <th>3</th>\n",
       "      <td>4</td>\n",
       "      <td>Coral</td>\n",
       "      <td>0101000020E610000028B66FE17DF663C01B1F64829AEF...</td>\n",
       "    </tr>\n",
       "    <tr>\n",
       "      <th>4</th>\n",
       "      <td>5</td>\n",
       "      <td>Mud Shells</td>\n",
       "      <td>0101000020E6100000181B9F6C6BF663C08DF60E0CB2F0...</td>\n",
       "    </tr>\n",
       "  </tbody>\n",
       "</table>\n",
       "</div>"
      ],
      "text/plain": [
       "   objectid      SEABED                                           geometry\n",
       "0         1        Sand  0101000020E6100000AEDCB3D693F663C0D9174C0ED1ED...\n",
       "1         2       Coral  0101000020E61000004D9FE324BDF663C0E9F24FF6DFEF...\n",
       "2         3      Gravel  0101000020E61000007CC77D22A8F663C07E0CDA25CEEF...\n",
       "3         4       Coral  0101000020E610000028B66FE17DF663C01B1F64829AEF...\n",
       "4         5  Mud Shells  0101000020E6100000181B9F6C6BF663C08DF60E0CB2F0..."
      ]
     },
     "execution_count": 15,
     "metadata": {},
     "output_type": "execute_result"
    }
   ],
   "source": [
    "rows_list=[]\n",
    "for objectid, seabed, geometry in cursor:\n",
    "    data={'objectid': objectid, 'SEABED':seabed, 'geometry':geometry}\n",
    "    rows_list.append(data)\n",
    "gdf=gpd.GeoDataFrame(rows_list,crs='epsg:4326')\n",
    "gdf.head()"
   ]
  }
 ],
 "metadata": {
  "interpreter": {
   "hash": "fe0a7f51f2a147a8c6497b7a35293dc9a0619beca2cf6c293ed0bf0faa843f5f"
  },
  "kernelspec": {
   "display_name": "Python 3.10.2 ('ocean_haz3': venv)",
   "language": "python",
   "name": "python3"
  },
  "language_info": {
   "codemirror_mode": {
    "name": "ipython",
    "version": 3
   },
   "file_extension": ".py",
   "mimetype": "text/x-python",
   "name": "python",
   "nbconvert_exporter": "python",
   "pygments_lexer": "ipython3",
   "version": "3.10.2"
  },
  "orig_nbformat": 4
 },
 "nbformat": 4,
 "nbformat_minor": 2
}
