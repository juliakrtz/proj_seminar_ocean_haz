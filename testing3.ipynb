{
 "cells": [
  {
   "cell_type": "markdown",
   "metadata": {},
   "source": [
    "Testing psycopg2"
   ]
  },
  {
   "cell_type": "code",
   "execution_count": 2,
   "metadata": {},
   "outputs": [],
   "source": [
    "import psycopg2\n",
    "import osgeo.ogr\n",
    "import shapely\n",
    "import shapely.wkt\n",
    "import geopandas as gpd\n"
   ]
  },
  {
   "cell_type": "code",
   "execution_count": 3,
   "metadata": {},
   "outputs": [],
   "source": [
    "connection = psycopg2.connect(database=\"geotech_ocean_haz\",user=\"postgres\", password=\"postgres\")\n",
    "\n",
    "#set up a cursor object which is used to issue commands.\n",
    "cursor = connection.cursor()"
   ]
  },
  {
   "cell_type": "code",
   "execution_count": 6,
   "metadata": {},
   "outputs": [],
   "source": [
    "cursor.execute(\"SELECT seabed FROM bottom_type\")"
   ]
  },
  {
   "cell_type": "code",
   "execution_count": 7,
   "metadata": {},
   "outputs": [
    {
     "ename": "NameError",
     "evalue": "name 'geo' is not defined",
     "output_type": "error",
     "traceback": [
      "\u001b[1;31m---------------------------------------------------------------------------\u001b[0m",
      "\u001b[1;31mNameError\u001b[0m                                 Traceback (most recent call last)",
      "Input \u001b[1;32mIn [7]\u001b[0m, in \u001b[0;36m<module>\u001b[1;34m\u001b[0m\n\u001b[0;32m      1\u001b[0m rows_list\u001b[38;5;241m=\u001b[39m[]\n\u001b[0;32m      2\u001b[0m \u001b[38;5;28;01mfor\u001b[39;00m seabed \u001b[38;5;129;01min\u001b[39;00m cursor:\n\u001b[1;32m----> 3\u001b[0m     data\u001b[38;5;241m=\u001b[39m{\u001b[38;5;124m'\u001b[39m\u001b[38;5;124mSEABED\u001b[39m\u001b[38;5;124m'\u001b[39m:seabed,\u001b[38;5;124m'\u001b[39m\u001b[38;5;124mgeometry\u001b[39m\u001b[38;5;124m'\u001b[39m:shapely\u001b[38;5;241m.\u001b[39mwkt\u001b[38;5;241m.\u001b[39mloads(\u001b[43mgeo\u001b[49m)}\n\u001b[0;32m      4\u001b[0m     rows_list\u001b[38;5;241m.\u001b[39mappend(data)\n\u001b[0;32m      5\u001b[0m gdf\u001b[38;5;241m=\u001b[39mgpd\u001b[38;5;241m.\u001b[39mGeoDataFrame(rows_list,crs\u001b[38;5;241m=\u001b[39m\u001b[38;5;124m'\u001b[39m\u001b[38;5;124mepsg:4326\u001b[39m\u001b[38;5;124m'\u001b[39m)\u001b[38;5;241m.\u001b[39mset_index(\u001b[38;5;124m'\u001b[39m\u001b[38;5;124mFIPS\u001b[39m\u001b[38;5;124m'\u001b[39m)\n",
      "\u001b[1;31mNameError\u001b[0m: name 'geo' is not defined"
     ]
    }
   ],
   "source": [
    "rows_list=[]\n",
    "for seabed in cursor:\n",
    "    data={'SEABED':seabed,'geometry':shapely.wkt.loads(geo)}\n",
    "    rows_list.append(data)\n",
    "gdf=gpd.GeoDataFrame(rows_list,crs='epsg:4326').set_index('FIPS')\n",
    "gdf.head()"
   ]
  }
 ],
 "metadata": {
  "interpreter": {
   "hash": "fe0a7f51f2a147a8c6497b7a35293dc9a0619beca2cf6c293ed0bf0faa843f5f"
  },
  "kernelspec": {
   "display_name": "Python 3.10.2 ('ocean_haz3': venv)",
   "language": "python",
   "name": "python3"
  },
  "language_info": {
   "codemirror_mode": {
    "name": "ipython",
    "version": 3
   },
   "file_extension": ".py",
   "mimetype": "text/x-python",
   "name": "python",
   "nbconvert_exporter": "python",
   "pygments_lexer": "ipython3",
   "version": "3.10.2"
  },
  "orig_nbformat": 4
 },
 "nbformat": 4,
 "nbformat_minor": 2
}
