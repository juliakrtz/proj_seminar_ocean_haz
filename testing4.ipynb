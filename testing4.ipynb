{
 "cells": [
  {
   "cell_type": "code",
   "execution_count": 1,
   "metadata": {},
   "outputs": [],
   "source": [
    "import psycopg2\n",
    "import osgeo.ogr\n",
    "import shapely\n",
    "import geopandas as gpd"
   ]
  },
  {
   "cell_type": "code",
   "execution_count": 60,
   "metadata": {},
   "outputs": [],
   "source": [
    "connection = psycopg2.connect(database=\"geotech_ocean_haz\", user=\"postgres\", password = \"postgres\")\n",
    "cursor = connection.cursor()"
   ]
  },
  {
   "cell_type": "code",
   "execution_count": null,
   "metadata": {},
   "outputs": [],
   "source": [
    "#path to coastline  of hawaii \n",
    "input_shape_coastline = \"https://opendata.arcgis.com/datasets/045b1d5147634e2380566668e04094c6_3.geojson\""
   ]
  },
  {
   "cell_type": "code",
   "execution_count": 93,
   "metadata": {},
   "outputs": [],
   "source": [
    "#select shark attacks   \n",
    "cursor.execute(\n",
    "'''SELECT 's.Date', 's.geometry'\n",
    "FROM shark_attacks as s\n",
    "WHERE st_intersects(s.geometry, \n",
    "\t\t\t\t\t st_transform(\n",
    "\t\t\t\t\t\t st_buffer(\n",
    "\t\t\t\t\t\t\t st_transform(\n",
    "\t\t\t\t\t\t\t\t st_setsrid(\n",
    "\t\t\t\t\t\t\t\t\t st_makepoint(-156.767903, 20.749255),4326),26904),20000),4326))'''\n",
    "\t\t\t\t   )\n",
    "connection.commit()"
   ]
  },
  {
   "cell_type": "code",
   "execution_count": 94,
   "metadata": {},
   "outputs": [
    {
     "data": {
      "text/html": [
       "<div>\n",
       "<style scoped>\n",
       "    .dataframe tbody tr th:only-of-type {\n",
       "        vertical-align: middle;\n",
       "    }\n",
       "\n",
       "    .dataframe tbody tr th {\n",
       "        vertical-align: top;\n",
       "    }\n",
       "\n",
       "    .dataframe thead th {\n",
       "        text-align: right;\n",
       "    }\n",
       "</style>\n",
       "<table border=\"1\" class=\"dataframe\">\n",
       "  <thead>\n",
       "    <tr style=\"text-align: right;\">\n",
       "      <th></th>\n",
       "      <th>geometry</th>\n",
       "    </tr>\n",
       "    <tr>\n",
       "      <th>Date</th>\n",
       "      <th></th>\n",
       "    </tr>\n",
       "  </thead>\n",
       "  <tbody>\n",
       "    <tr>\n",
       "      <th>s.Date</th>\n",
       "      <td>s.geometry</td>\n",
       "    </tr>\n",
       "    <tr>\n",
       "      <th>s.Date</th>\n",
       "      <td>s.geometry</td>\n",
       "    </tr>\n",
       "    <tr>\n",
       "      <th>s.Date</th>\n",
       "      <td>s.geometry</td>\n",
       "    </tr>\n",
       "  </tbody>\n",
       "</table>\n",
       "</div>"
      ],
      "text/plain": [
       "          geometry\n",
       "Date              \n",
       "s.Date  s.geometry\n",
       "s.Date  s.geometry\n",
       "s.Date  s.geometry"
      ]
     },
     "execution_count": 94,
     "metadata": {},
     "output_type": "execute_result"
    }
   ],
   "source": [
    "rows_list=[]\n",
    "for Date, geometry in cursor:\n",
    "    data={'Date':Date,'geometry':geometry}\n",
    "    rows_list.append(data)\n",
    "#print(rows_list)\n",
    "gdf=gpd.GeoDataFrame(rows_list).set_index('Date')\n",
    "gdf.head()"
   ]
  },
  {
   "cell_type": "code",
   "execution_count": 89,
   "metadata": {},
   "outputs": [],
   "source": [
    "#select bottom type\n",
    "cursor.execute(\n",
    "'''SELECT b.objectid, b.seabed, b.geometry \n",
    "FROM bottom_type as b\n",
    "WHERE st_intersects(b.geometry, \n",
    "\t\t\t\t\t st_transform(\n",
    "\t\t\t\t\t\t st_buffer(\n",
    "\t\t\t\t\t\t\t st_transform(\n",
    "\t\t\t\t\t\t\t\t st_setsrid(\n",
    "\t\t\t\t\t\t\t\t\t st_makepoint(-156.076333, 20.815275),4326),26904),10000),4326)\n",
    "\t\t\t\t   )'''\n",
    ")\n",
    "connection.commit()"
   ]
  },
  {
   "cell_type": "code",
   "execution_count": 90,
   "metadata": {},
   "outputs": [],
   "source": [
    "bottom_list=[]\n",
    "for objectid, seabed, geometry in cursor:\n",
    "    data={'OBJECTID':objectid,'SEABED':seabed,'geometry':geometry}\n",
    "    bottom_list.append(data)\n"
   ]
  },
  {
   "cell_type": "code",
   "execution_count": 92,
   "metadata": {},
   "outputs": [
    {
     "data": {
      "text/html": [
       "<div>\n",
       "<style scoped>\n",
       "    .dataframe tbody tr th:only-of-type {\n",
       "        vertical-align: middle;\n",
       "    }\n",
       "\n",
       "    .dataframe tbody tr th {\n",
       "        vertical-align: top;\n",
       "    }\n",
       "\n",
       "    .dataframe thead th {\n",
       "        text-align: right;\n",
       "    }\n",
       "</style>\n",
       "<table border=\"1\" class=\"dataframe\">\n",
       "  <thead>\n",
       "    <tr style=\"text-align: right;\">\n",
       "      <th></th>\n",
       "      <th>SEABED</th>\n",
       "      <th>geometry</th>\n",
       "    </tr>\n",
       "    <tr>\n",
       "      <th>OBJECTID</th>\n",
       "      <th></th>\n",
       "      <th></th>\n",
       "    </tr>\n",
       "  </thead>\n",
       "  <tbody>\n",
       "    <tr>\n",
       "      <th>4173</th>\n",
       "      <td>Mud</td>\n",
       "      <td>0101000020E6100000705083AD698163C0A728A43C1AD7...</td>\n",
       "    </tr>\n",
       "    <tr>\n",
       "      <th>4174</th>\n",
       "      <td>Mud</td>\n",
       "      <td>0101000020E61000008E69AB94358063C03F28FA2042D2...</td>\n",
       "    </tr>\n",
       "  </tbody>\n",
       "</table>\n",
       "</div>"
      ],
      "text/plain": [
       "         SEABED                                           geometry\n",
       "OBJECTID                                                          \n",
       "4173        Mud  0101000020E6100000705083AD698163C0A728A43C1AD7...\n",
       "4174        Mud  0101000020E61000008E69AB94358063C03F28FA2042D2..."
      ]
     },
     "execution_count": 92,
     "metadata": {},
     "output_type": "execute_result"
    }
   ],
   "source": [
    "#print(bottom_list)\n",
    "gdf=gpd.GeoDataFrame(bottom_list).set_index('OBJECTID')\n",
    "gdf.head()"
   ]
  }
 ],
 "metadata": {
  "interpreter": {
   "hash": "fe0a7f51f2a147a8c6497b7a35293dc9a0619beca2cf6c293ed0bf0faa843f5f"
  },
  "kernelspec": {
   "display_name": "Python 3.10.2 ('ocean_haz3': venv)",
   "language": "python",
   "name": "python3"
  },
  "language_info": {
   "codemirror_mode": {
    "name": "ipython",
    "version": 3
   },
   "file_extension": ".py",
   "mimetype": "text/x-python",
   "name": "python",
   "nbconvert_exporter": "python",
   "pygments_lexer": "ipython3",
   "version": "3.10.2"
  },
  "orig_nbformat": 4
 },
 "nbformat": 4,
 "nbformat_minor": 2
}
