{
 "cells": [
  {
   "cell_type": "code",
   "execution_count": null,
   "metadata": {},
   "outputs": [],
   "source": []
  },
  {
   "cell_type": "code",
   "execution_count": null,
   "metadata": {},
   "outputs": [],
   "source": [
    "'''\n",
    "SELECT * \n",
    "FROM shark_attacks as s\n",
    "WHERE st_intersects(s.geometry, \n",
    "\t\t\t\t\t st_transform(\n",
    "\t\t\t\t\t\t st_buffer(\n",
    "\t\t\t\t\t\t\t st_transform(\n",
    "\t\t\t\t\t\t\t\t st_setsrid(\n",
    "\t\t\t\t\t\t\t\t\t st_makepoint(-156.767903, 20.749255),4326),26904),50),4326)\n",
    "\t\t\t\t   )\n",
    "\n",
    "SELECT * \n",
    "FROM bottom_type as b\n",
    "WHERE st_intersects(b.geometry, \n",
    "\t\t\t\t\t st_transform(\n",
    "\t\t\t\t\t\t st_buffer(\n",
    "\t\t\t\t\t\t\t st_transform(\n",
    "\t\t\t\t\t\t\t\t st_setsrid(\n",
    "\t\t\t\t\t\t\t\t\t st_makepoint(-156.076333, 20.815275),4326),26904),10000),4326)\n",
    "\t\t\t\t   )'''"
   ]
  }
 ],
 "metadata": {
  "language_info": {
   "name": "python"
  },
  "orig_nbformat": 4
 },
 "nbformat": 4,
 "nbformat_minor": 2
}
