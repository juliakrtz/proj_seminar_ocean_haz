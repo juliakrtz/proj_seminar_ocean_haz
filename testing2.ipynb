{
 "cells": [
  {
   "cell_type": "code",
   "execution_count": 2,
   "metadata": {},
   "outputs": [],
   "source": [
    "from geojson import FeatureCollection\n",
    "import geopandas\n"
   ]
  },
  {
   "cell_type": "code",
   "execution_count": 3,
   "metadata": {},
   "outputs": [],
   "source": [
    "url_coral_reef = \"https://opendata.arcgis.com/datasets/9229d814438349948c99b5e61a084418_7.geojson\"\n",
    "\n",
    "my_feature = FeatureCollection(url_coral_reef)\n"
   ]
  },
  {
   "cell_type": "code",
   "execution_count": 7,
   "metadata": {},
   "outputs": [
    {
     "ename": "UnicodeDecodeError",
     "evalue": "'utf-8' codec can't decode byte 0xe3 in position 76: invalid continuation byte",
     "output_type": "error",
     "traceback": [
      "\u001b[1;31m---------------------------------------------------------------------------\u001b[0m",
      "\u001b[1;31mUnicodeDecodeError\u001b[0m                        Traceback (most recent call last)",
      "\u001b[1;31mUnicodeDecodeError\u001b[0m: 'utf-8' codec can't decode byte 0xe3 in position 76: invalid continuation byte"
     ]
    },
    {
     "name": "stderr",
     "output_type": "stream",
     "text": [
      "Exception ignored in: 'fiona._env.log_error'\n",
      "Traceback (most recent call last):\n",
      "  File \"D:\\Programas\\anaconda3\\envs\\gps_project\\lib\\site-packages\\fiona\\env.py\", line 289, in defenv\n",
      "    local._env.start()\n",
      "UnicodeDecodeError: 'utf-8' codec can't decode byte 0xe3 in position 76: invalid continuation byte\n"
     ]
    },
    {
     "ename": "UnicodeDecodeError",
     "evalue": "'utf-8' codec can't decode byte 0xe3 in position 76: invalid continuation byte",
     "output_type": "error",
     "traceback": [
      "\u001b[1;31m---------------------------------------------------------------------------\u001b[0m",
      "\u001b[1;31mUnicodeDecodeError\u001b[0m                        Traceback (most recent call last)",
      "\u001b[1;31mUnicodeDecodeError\u001b[0m: 'utf-8' codec can't decode byte 0xe3 in position 76: invalid continuation byte"
     ]
    },
    {
     "name": "stderr",
     "output_type": "stream",
     "text": [
      "Exception ignored in: 'fiona._env.log_error'\n",
      "Traceback (most recent call last):\n",
      "  File \"D:\\Programas\\anaconda3\\envs\\gps_project\\lib\\site-packages\\fiona\\env.py\", line 289, in defenv\n",
      "    local._env.start()\n",
      "UnicodeDecodeError: 'utf-8' codec can't decode byte 0xe3 in position 76: invalid continuation byte\n"
     ]
    },
    {
     "ename": "UnicodeDecodeError",
     "evalue": "'utf-8' codec can't decode byte 0xe3 in position 81: invalid continuation byte",
     "output_type": "error",
     "traceback": [
      "\u001b[1;31m---------------------------------------------------------------------------\u001b[0m",
      "\u001b[1;31mUnicodeDecodeError\u001b[0m                        Traceback (most recent call last)",
      "\u001b[1;31mUnicodeDecodeError\u001b[0m: 'utf-8' codec can't decode byte 0xe3 in position 81: invalid continuation byte"
     ]
    },
    {
     "name": "stderr",
     "output_type": "stream",
     "text": [
      "Exception ignored in: 'fiona._env.log_error'\n",
      "Traceback (most recent call last):\n",
      "  File \"D:\\Programas\\anaconda3\\envs\\gps_project\\lib\\site-packages\\fiona\\env.py\", line 289, in defenv\n",
      "    local._env.start()\n",
      "UnicodeDecodeError: 'utf-8' codec can't decode byte 0xe3 in position 81: invalid continuation byte\n"
     ]
    },
    {
     "ename": "UnicodeDecodeError",
     "evalue": "'utf-8' codec can't decode byte 0xe3 in position 81: invalid continuation byte",
     "output_type": "error",
     "traceback": [
      "\u001b[1;31m---------------------------------------------------------------------------\u001b[0m",
      "\u001b[1;31mUnicodeDecodeError\u001b[0m                        Traceback (most recent call last)",
      "\u001b[1;31mUnicodeDecodeError\u001b[0m: 'utf-8' codec can't decode byte 0xe3 in position 81: invalid continuation byte"
     ]
    },
    {
     "name": "stderr",
     "output_type": "stream",
     "text": [
      "Exception ignored in: 'fiona._env.log_error'\n",
      "Traceback (most recent call last):\n",
      "  File \"D:\\Programas\\anaconda3\\envs\\gps_project\\lib\\site-packages\\fiona\\env.py\", line 289, in defenv\n",
      "    local._env.start()\n",
      "UnicodeDecodeError: 'utf-8' codec can't decode byte 0xe3 in position 81: invalid continuation byte\n"
     ]
    },
    {
     "ename": "UnicodeDecodeError",
     "evalue": "'utf-8' codec can't decode byte 0xe3 in position 72: invalid continuation byte",
     "output_type": "error",
     "traceback": [
      "\u001b[1;31m---------------------------------------------------------------------------\u001b[0m",
      "\u001b[1;31mUnicodeDecodeError\u001b[0m                        Traceback (most recent call last)",
      "\u001b[1;31mUnicodeDecodeError\u001b[0m: 'utf-8' codec can't decode byte 0xe3 in position 72: invalid continuation byte"
     ]
    },
    {
     "name": "stderr",
     "output_type": "stream",
     "text": [
      "Exception ignored in: 'fiona._env.log_error'\n",
      "Traceback (most recent call last):\n",
      "  File \"D:\\Programas\\anaconda3\\envs\\gps_project\\lib\\site-packages\\fiona\\env.py\", line 289, in defenv\n",
      "    local._env.start()\n",
      "UnicodeDecodeError: 'utf-8' codec can't decode byte 0xe3 in position 72: invalid continuation byte\n"
     ]
    },
    {
     "ename": "UnicodeDecodeError",
     "evalue": "'utf-8' codec can't decode byte 0xe3 in position 72: invalid continuation byte",
     "output_type": "error",
     "traceback": [
      "\u001b[1;31m---------------------------------------------------------------------------\u001b[0m",
      "\u001b[1;31mUnicodeDecodeError\u001b[0m                        Traceback (most recent call last)",
      "\u001b[1;31mUnicodeDecodeError\u001b[0m: 'utf-8' codec can't decode byte 0xe3 in position 72: invalid continuation byte"
     ]
    },
    {
     "name": "stderr",
     "output_type": "stream",
     "text": [
      "Exception ignored in: 'fiona._env.log_error'\n",
      "Traceback (most recent call last):\n",
      "  File \"D:\\Programas\\anaconda3\\envs\\gps_project\\lib\\site-packages\\fiona\\env.py\", line 289, in defenv\n",
      "    local._env.start()\n",
      "UnicodeDecodeError: 'utf-8' codec can't decode byte 0xe3 in position 72: invalid continuation byte\n"
     ]
    },
    {
     "ename": "UnicodeDecodeError",
     "evalue": "'utf-8' codec can't decode byte 0xe3 in position 71: invalid continuation byte",
     "output_type": "error",
     "traceback": [
      "\u001b[1;31m---------------------------------------------------------------------------\u001b[0m",
      "\u001b[1;31mUnicodeDecodeError\u001b[0m                        Traceback (most recent call last)",
      "\u001b[1;31mUnicodeDecodeError\u001b[0m: 'utf-8' codec can't decode byte 0xe3 in position 71: invalid continuation byte"
     ]
    },
    {
     "name": "stderr",
     "output_type": "stream",
     "text": [
      "Exception ignored in: 'fiona._env.log_error'\n",
      "Traceback (most recent call last):\n",
      "  File \"D:\\Programas\\anaconda3\\envs\\gps_project\\lib\\site-packages\\fiona\\env.py\", line 289, in defenv\n",
      "    local._env.start()\n",
      "UnicodeDecodeError: 'utf-8' codec can't decode byte 0xe3 in position 71: invalid continuation byte\n"
     ]
    },
    {
     "ename": "UnicodeDecodeError",
     "evalue": "'utf-8' codec can't decode byte 0xe3 in position 71: invalid continuation byte",
     "output_type": "error",
     "traceback": [
      "\u001b[1;31m---------------------------------------------------------------------------\u001b[0m",
      "\u001b[1;31mUnicodeDecodeError\u001b[0m                        Traceback (most recent call last)",
      "\u001b[1;31mUnicodeDecodeError\u001b[0m: 'utf-8' codec can't decode byte 0xe3 in position 71: invalid continuation byte"
     ]
    },
    {
     "name": "stderr",
     "output_type": "stream",
     "text": [
      "Exception ignored in: 'fiona._env.log_error'\n",
      "Traceback (most recent call last):\n",
      "  File \"D:\\Programas\\anaconda3\\envs\\gps_project\\lib\\site-packages\\fiona\\env.py\", line 289, in defenv\n",
      "    local._env.start()\n",
      "UnicodeDecodeError: 'utf-8' codec can't decode byte 0xe3 in position 71: invalid continuation byte\n"
     ]
    },
    {
     "ename": "UnicodeDecodeError",
     "evalue": "'utf-8' codec can't decode byte 0xe3 in position 76: invalid continuation byte",
     "output_type": "error",
     "traceback": [
      "\u001b[1;31m---------------------------------------------------------------------------\u001b[0m",
      "\u001b[1;31mUnicodeDecodeError\u001b[0m                        Traceback (most recent call last)",
      "\u001b[1;31mUnicodeDecodeError\u001b[0m: 'utf-8' codec can't decode byte 0xe3 in position 76: invalid continuation byte"
     ]
    },
    {
     "name": "stderr",
     "output_type": "stream",
     "text": [
      "Exception ignored in: 'fiona._env.log_error'\n",
      "Traceback (most recent call last):\n",
      "  File \"D:\\Programas\\anaconda3\\envs\\gps_project\\lib\\site-packages\\fiona\\env.py\", line 289, in defenv\n",
      "    local._env.start()\n",
      "UnicodeDecodeError: 'utf-8' codec can't decode byte 0xe3 in position 76: invalid continuation byte\n"
     ]
    },
    {
     "ename": "UnicodeDecodeError",
     "evalue": "'utf-8' codec can't decode byte 0xe3 in position 76: invalid continuation byte",
     "output_type": "error",
     "traceback": [
      "\u001b[1;31m---------------------------------------------------------------------------\u001b[0m",
      "\u001b[1;31mUnicodeDecodeError\u001b[0m                        Traceback (most recent call last)",
      "\u001b[1;31mUnicodeDecodeError\u001b[0m: 'utf-8' codec can't decode byte 0xe3 in position 76: invalid continuation byte"
     ]
    },
    {
     "name": "stderr",
     "output_type": "stream",
     "text": [
      "Exception ignored in: 'fiona._env.log_error'\n",
      "Traceback (most recent call last):\n",
      "  File \"D:\\Programas\\anaconda3\\envs\\gps_project\\lib\\site-packages\\fiona\\env.py\", line 289, in defenv\n",
      "    local._env.start()\n",
      "UnicodeDecodeError: 'utf-8' codec can't decode byte 0xe3 in position 76: invalid continuation byte\n"
     ]
    },
    {
     "ename": "UnicodeDecodeError",
     "evalue": "'utf-8' codec can't decode byte 0xe3 in position 81: invalid continuation byte",
     "output_type": "error",
     "traceback": [
      "\u001b[1;31m---------------------------------------------------------------------------\u001b[0m",
      "\u001b[1;31mUnicodeDecodeError\u001b[0m                        Traceback (most recent call last)",
      "\u001b[1;31mUnicodeDecodeError\u001b[0m: 'utf-8' codec can't decode byte 0xe3 in position 81: invalid continuation byte"
     ]
    },
    {
     "name": "stderr",
     "output_type": "stream",
     "text": [
      "Exception ignored in: 'fiona._env.log_error'\n",
      "Traceback (most recent call last):\n",
      "  File \"D:\\Programas\\anaconda3\\envs\\gps_project\\lib\\site-packages\\fiona\\env.py\", line 289, in defenv\n",
      "    local._env.start()\n",
      "UnicodeDecodeError: 'utf-8' codec can't decode byte 0xe3 in position 81: invalid continuation byte\n"
     ]
    },
    {
     "ename": "UnicodeDecodeError",
     "evalue": "'utf-8' codec can't decode byte 0xe3 in position 81: invalid continuation byte",
     "output_type": "error",
     "traceback": [
      "\u001b[1;31m---------------------------------------------------------------------------\u001b[0m",
      "\u001b[1;31mUnicodeDecodeError\u001b[0m                        Traceback (most recent call last)",
      "\u001b[1;31mUnicodeDecodeError\u001b[0m: 'utf-8' codec can't decode byte 0xe3 in position 81: invalid continuation byte"
     ]
    },
    {
     "name": "stderr",
     "output_type": "stream",
     "text": [
      "Exception ignored in: 'fiona._env.log_error'\n",
      "Traceback (most recent call last):\n",
      "  File \"D:\\Programas\\anaconda3\\envs\\gps_project\\lib\\site-packages\\fiona\\env.py\", line 289, in defenv\n",
      "    local._env.start()\n",
      "UnicodeDecodeError: 'utf-8' codec can't decode byte 0xe3 in position 81: invalid continuation byte\n"
     ]
    },
    {
     "ename": "UnicodeDecodeError",
     "evalue": "'utf-8' codec can't decode byte 0xe3 in position 72: invalid continuation byte",
     "output_type": "error",
     "traceback": [
      "\u001b[1;31m---------------------------------------------------------------------------\u001b[0m",
      "\u001b[1;31mUnicodeDecodeError\u001b[0m                        Traceback (most recent call last)",
      "\u001b[1;31mUnicodeDecodeError\u001b[0m: 'utf-8' codec can't decode byte 0xe3 in position 72: invalid continuation byte"
     ]
    },
    {
     "name": "stderr",
     "output_type": "stream",
     "text": [
      "Exception ignored in: 'fiona._env.log_error'\n",
      "Traceback (most recent call last):\n",
      "  File \"D:\\Programas\\anaconda3\\envs\\gps_project\\lib\\site-packages\\fiona\\env.py\", line 289, in defenv\n",
      "    local._env.start()\n",
      "UnicodeDecodeError: 'utf-8' codec can't decode byte 0xe3 in position 72: invalid continuation byte\n"
     ]
    },
    {
     "ename": "UnicodeDecodeError",
     "evalue": "'utf-8' codec can't decode byte 0xe3 in position 72: invalid continuation byte",
     "output_type": "error",
     "traceback": [
      "\u001b[1;31m---------------------------------------------------------------------------\u001b[0m",
      "\u001b[1;31mUnicodeDecodeError\u001b[0m                        Traceback (most recent call last)",
      "\u001b[1;31mUnicodeDecodeError\u001b[0m: 'utf-8' codec can't decode byte 0xe3 in position 72: invalid continuation byte"
     ]
    },
    {
     "name": "stderr",
     "output_type": "stream",
     "text": [
      "Exception ignored in: 'fiona._env.log_error'\n",
      "Traceback (most recent call last):\n",
      "  File \"D:\\Programas\\anaconda3\\envs\\gps_project\\lib\\site-packages\\fiona\\env.py\", line 289, in defenv\n",
      "    local._env.start()\n",
      "UnicodeDecodeError: 'utf-8' codec can't decode byte 0xe3 in position 72: invalid continuation byte\n"
     ]
    },
    {
     "ename": "UnicodeDecodeError",
     "evalue": "'utf-8' codec can't decode byte 0xe3 in position 71: invalid continuation byte",
     "output_type": "error",
     "traceback": [
      "\u001b[1;31m---------------------------------------------------------------------------\u001b[0m",
      "\u001b[1;31mUnicodeDecodeError\u001b[0m                        Traceback (most recent call last)",
      "\u001b[1;31mUnicodeDecodeError\u001b[0m: 'utf-8' codec can't decode byte 0xe3 in position 71: invalid continuation byte"
     ]
    },
    {
     "name": "stderr",
     "output_type": "stream",
     "text": [
      "Exception ignored in: 'fiona._env.log_error'\n",
      "Traceback (most recent call last):\n",
      "  File \"D:\\Programas\\anaconda3\\envs\\gps_project\\lib\\site-packages\\fiona\\env.py\", line 289, in defenv\n",
      "    local._env.start()\n",
      "UnicodeDecodeError: 'utf-8' codec can't decode byte 0xe3 in position 71: invalid continuation byte\n"
     ]
    },
    {
     "ename": "UnicodeDecodeError",
     "evalue": "'utf-8' codec can't decode byte 0xe3 in position 71: invalid continuation byte",
     "output_type": "error",
     "traceback": [
      "\u001b[1;31m---------------------------------------------------------------------------\u001b[0m",
      "\u001b[1;31mUnicodeDecodeError\u001b[0m                        Traceback (most recent call last)",
      "\u001b[1;31mUnicodeDecodeError\u001b[0m: 'utf-8' codec can't decode byte 0xe3 in position 71: invalid continuation byte"
     ]
    },
    {
     "name": "stderr",
     "output_type": "stream",
     "text": [
      "Exception ignored in: 'fiona._env.log_error'\n",
      "Traceback (most recent call last):\n",
      "  File \"D:\\Programas\\anaconda3\\envs\\gps_project\\lib\\site-packages\\fiona\\env.py\", line 289, in defenv\n",
      "    local._env.start()\n",
      "UnicodeDecodeError: 'utf-8' codec can't decode byte 0xe3 in position 71: invalid continuation byte\n"
     ]
    },
    {
     "data": {
      "text/html": [
       "<div>\n",
       "<style scoped>\n",
       "    .dataframe tbody tr th:only-of-type {\n",
       "        vertical-align: middle;\n",
       "    }\n",
       "\n",
       "    .dataframe tbody tr th {\n",
       "        vertical-align: top;\n",
       "    }\n",
       "\n",
       "    .dataframe thead th {\n",
       "        text-align: right;\n",
       "    }\n",
       "</style>\n",
       "<table border=\"1\" class=\"dataframe\">\n",
       "  <thead>\n",
       "    <tr style=\"text-align: right;\">\n",
       "      <th></th>\n",
       "      <th>objectid</th>\n",
       "      <th>id</th>\n",
       "      <th>acres</th>\n",
       "      <th>chart1</th>\n",
       "      <th>chart2</th>\n",
       "      <th>notes</th>\n",
       "      <th>sourcethm</th>\n",
       "      <th>createdby</th>\n",
       "      <th>agency</th>\n",
       "      <th>publishdate</th>\n",
       "      <th>...</th>\n",
       "      <th>createdate</th>\n",
       "      <th>modifieddate</th>\n",
       "      <th>modifiedby</th>\n",
       "      <th>deliverydate</th>\n",
       "      <th>sourceid</th>\n",
       "      <th>severity</th>\n",
       "      <th>comments</th>\n",
       "      <th>st_areashape</th>\n",
       "      <th>st_perimetershape</th>\n",
       "      <th>geometry</th>\n",
       "    </tr>\n",
       "  </thead>\n",
       "  <tbody>\n",
       "    <tr>\n",
       "      <th>0</th>\n",
       "      <td>1</td>\n",
       "      <td>0</td>\n",
       "      <td>50.719</td>\n",
       "      <td>19320_1</td>\n",
       "      <td></td>\n",
       "      <td></td>\n",
       "      <td>Coral reefs_hawa</td>\n",
       "      <td></td>\n",
       "      <td></td>\n",
       "      <td>1899-12-30T00:00:00+00:00</td>\n",
       "      <td>...</td>\n",
       "      <td>None</td>\n",
       "      <td>None</td>\n",
       "      <td>None</td>\n",
       "      <td>2016-09-13T00:00:00+00:00</td>\n",
       "      <td>None</td>\n",
       "      <td>None</td>\n",
       "      <td>None</td>\n",
       "      <td>205258.698180</td>\n",
       "      <td>2627.625559</td>\n",
       "      <td>POLYGON ((-155.89825 20.23193, -155.89826 20.2...</td>\n",
       "    </tr>\n",
       "    <tr>\n",
       "      <th>1</th>\n",
       "      <td>2</td>\n",
       "      <td>0</td>\n",
       "      <td>33.739</td>\n",
       "      <td>19320_1</td>\n",
       "      <td></td>\n",
       "      <td></td>\n",
       "      <td>Coral reefs_hawa</td>\n",
       "      <td></td>\n",
       "      <td></td>\n",
       "      <td>1899-12-30T00:00:00+00:00</td>\n",
       "      <td>...</td>\n",
       "      <td>None</td>\n",
       "      <td>None</td>\n",
       "      <td>None</td>\n",
       "      <td>2016-09-13T00:00:00+00:00</td>\n",
       "      <td>None</td>\n",
       "      <td>None</td>\n",
       "      <td>None</td>\n",
       "      <td>136540.403761</td>\n",
       "      <td>1660.745763</td>\n",
       "      <td>POLYGON ((-155.90107 20.22022, -155.90108 20.2...</td>\n",
       "    </tr>\n",
       "    <tr>\n",
       "      <th>2</th>\n",
       "      <td>3</td>\n",
       "      <td>0</td>\n",
       "      <td>24.451</td>\n",
       "      <td>19320_1</td>\n",
       "      <td></td>\n",
       "      <td></td>\n",
       "      <td>Coral reefs_hawa</td>\n",
       "      <td></td>\n",
       "      <td></td>\n",
       "      <td>1899-12-30T00:00:00+00:00</td>\n",
       "      <td>...</td>\n",
       "      <td>None</td>\n",
       "      <td>None</td>\n",
       "      <td>None</td>\n",
       "      <td>2016-09-13T00:00:00+00:00</td>\n",
       "      <td>None</td>\n",
       "      <td>None</td>\n",
       "      <td>None</td>\n",
       "      <td>98952.901967</td>\n",
       "      <td>1339.625457</td>\n",
       "      <td>POLYGON ((-155.90286 20.21338, -155.90282 20.2...</td>\n",
       "    </tr>\n",
       "    <tr>\n",
       "      <th>3</th>\n",
       "      <td>4</td>\n",
       "      <td>0</td>\n",
       "      <td>78.146</td>\n",
       "      <td>19320_1</td>\n",
       "      <td></td>\n",
       "      <td></td>\n",
       "      <td>Coral reefs_hawa</td>\n",
       "      <td></td>\n",
       "      <td></td>\n",
       "      <td>1899-12-30T00:00:00+00:00</td>\n",
       "      <td>...</td>\n",
       "      <td>None</td>\n",
       "      <td>None</td>\n",
       "      <td>None</td>\n",
       "      <td>2016-09-13T00:00:00+00:00</td>\n",
       "      <td>None</td>\n",
       "      <td>None</td>\n",
       "      <td>None</td>\n",
       "      <td>316255.862683</td>\n",
       "      <td>3513.999694</td>\n",
       "      <td>POLYGON ((-155.90131 20.18303, -155.90127 20.1...</td>\n",
       "    </tr>\n",
       "    <tr>\n",
       "      <th>4</th>\n",
       "      <td>5</td>\n",
       "      <td>0</td>\n",
       "      <td>90.205</td>\n",
       "      <td>19320_1</td>\n",
       "      <td></td>\n",
       "      <td></td>\n",
       "      <td>Coral reefs_hawa</td>\n",
       "      <td></td>\n",
       "      <td></td>\n",
       "      <td>1899-12-30T00:00:00+00:00</td>\n",
       "      <td>...</td>\n",
       "      <td>None</td>\n",
       "      <td>None</td>\n",
       "      <td>None</td>\n",
       "      <td>2016-09-13T00:00:00+00:00</td>\n",
       "      <td>None</td>\n",
       "      <td>None</td>\n",
       "      <td>None</td>\n",
       "      <td>365061.336994</td>\n",
       "      <td>3639.728460</td>\n",
       "      <td>POLYGON ((-155.89961 20.16625, -155.89960 20.1...</td>\n",
       "    </tr>\n",
       "    <tr>\n",
       "      <th>...</th>\n",
       "      <td>...</td>\n",
       "      <td>...</td>\n",
       "      <td>...</td>\n",
       "      <td>...</td>\n",
       "      <td>...</td>\n",
       "      <td>...</td>\n",
       "      <td>...</td>\n",
       "      <td>...</td>\n",
       "      <td>...</td>\n",
       "      <td>...</td>\n",
       "      <td>...</td>\n",
       "      <td>...</td>\n",
       "      <td>...</td>\n",
       "      <td>...</td>\n",
       "      <td>...</td>\n",
       "      <td>...</td>\n",
       "      <td>...</td>\n",
       "      <td>...</td>\n",
       "      <td>...</td>\n",
       "      <td>...</td>\n",
       "      <td>...</td>\n",
       "    </tr>\n",
       "    <tr>\n",
       "      <th>469</th>\n",
       "      <td>470</td>\n",
       "      <td>0</td>\n",
       "      <td>0.000</td>\n",
       "      <td>19350_1</td>\n",
       "      <td></td>\n",
       "      <td></td>\n",
       "      <td>Coral reefs_maui</td>\n",
       "      <td></td>\n",
       "      <td></td>\n",
       "      <td>1899-12-30T00:00:00+00:00</td>\n",
       "      <td>...</td>\n",
       "      <td>None</td>\n",
       "      <td>None</td>\n",
       "      <td>None</td>\n",
       "      <td>2016-09-13T00:00:00+00:00</td>\n",
       "      <td>None</td>\n",
       "      <td>None</td>\n",
       "      <td>None</td>\n",
       "      <td>0.120163</td>\n",
       "      <td>1.674088</td>\n",
       "      <td>POLYGON ((-156.52241 20.77858, -156.52241 20.7...</td>\n",
       "    </tr>\n",
       "    <tr>\n",
       "      <th>470</th>\n",
       "      <td>471</td>\n",
       "      <td>0</td>\n",
       "      <td>1.664</td>\n",
       "      <td>19347_1</td>\n",
       "      <td>19350_1</td>\n",
       "      <td></td>\n",
       "      <td>Coral reefs_maui</td>\n",
       "      <td></td>\n",
       "      <td></td>\n",
       "      <td>1899-12-30T00:00:00+00:00</td>\n",
       "      <td>...</td>\n",
       "      <td>None</td>\n",
       "      <td>None</td>\n",
       "      <td>None</td>\n",
       "      <td>2016-09-13T00:00:00+00:00</td>\n",
       "      <td>None</td>\n",
       "      <td>None</td>\n",
       "      <td>None</td>\n",
       "      <td>6732.837735</td>\n",
       "      <td>1016.144926</td>\n",
       "      <td>MULTIPOLYGON (((-156.51905 20.78111, -156.5190...</td>\n",
       "    </tr>\n",
       "    <tr>\n",
       "      <th>471</th>\n",
       "      <td>472</td>\n",
       "      <td>0</td>\n",
       "      <td>0.467</td>\n",
       "      <td>19347_1</td>\n",
       "      <td>19350_1</td>\n",
       "      <td></td>\n",
       "      <td>Coral reefs_maui</td>\n",
       "      <td></td>\n",
       "      <td></td>\n",
       "      <td>1899-12-30T00:00:00+00:00</td>\n",
       "      <td>...</td>\n",
       "      <td>None</td>\n",
       "      <td>None</td>\n",
       "      <td>None</td>\n",
       "      <td>2016-09-13T00:00:00+00:00</td>\n",
       "      <td>None</td>\n",
       "      <td>None</td>\n",
       "      <td>None</td>\n",
       "      <td>1890.686633</td>\n",
       "      <td>484.262692</td>\n",
       "      <td>MULTIPOLYGON (((-156.51542 20.78764, -156.5155...</td>\n",
       "    </tr>\n",
       "    <tr>\n",
       "      <th>472</th>\n",
       "      <td>473</td>\n",
       "      <td>0</td>\n",
       "      <td>5.018</td>\n",
       "      <td>19347_1</td>\n",
       "      <td>19350_1</td>\n",
       "      <td></td>\n",
       "      <td>Coral reefs_maui</td>\n",
       "      <td></td>\n",
       "      <td></td>\n",
       "      <td>1899-12-30T00:00:00+00:00</td>\n",
       "      <td>...</td>\n",
       "      <td>None</td>\n",
       "      <td>None</td>\n",
       "      <td>None</td>\n",
       "      <td>2016-09-13T00:00:00+00:00</td>\n",
       "      <td>None</td>\n",
       "      <td>None</td>\n",
       "      <td>None</td>\n",
       "      <td>20309.512520</td>\n",
       "      <td>775.651696</td>\n",
       "      <td>POLYGON ((-156.49815 20.79667, -156.49861 20.7...</td>\n",
       "    </tr>\n",
       "    <tr>\n",
       "      <th>473</th>\n",
       "      <td>474</td>\n",
       "      <td>0</td>\n",
       "      <td>0.231</td>\n",
       "      <td>19350_1</td>\n",
       "      <td></td>\n",
       "      <td></td>\n",
       "      <td>Coral reefs_maui</td>\n",
       "      <td></td>\n",
       "      <td></td>\n",
       "      <td>1899-12-30T00:00:00+00:00</td>\n",
       "      <td>...</td>\n",
       "      <td>None</td>\n",
       "      <td>None</td>\n",
       "      <td>None</td>\n",
       "      <td>2016-09-13T00:00:00+00:00</td>\n",
       "      <td>None</td>\n",
       "      <td>None</td>\n",
       "      <td>None</td>\n",
       "      <td>936.058920</td>\n",
       "      <td>281.301663</td>\n",
       "      <td>MULTIPOLYGON (((-156.46213 20.78009, -156.4621...</td>\n",
       "    </tr>\n",
       "  </tbody>\n",
       "</table>\n",
       "<p>474 rows × 21 columns</p>\n",
       "</div>"
      ],
      "text/plain": [
       "     objectid  id   acres   chart1   chart2 notes         sourcethm createdby  \\\n",
       "0           1   0  50.719  19320_1                 Coral reefs_hawa             \n",
       "1           2   0  33.739  19320_1                 Coral reefs_hawa             \n",
       "2           3   0  24.451  19320_1                 Coral reefs_hawa             \n",
       "3           4   0  78.146  19320_1                 Coral reefs_hawa             \n",
       "4           5   0  90.205  19320_1                 Coral reefs_hawa             \n",
       "..        ...  ..     ...      ...      ...   ...               ...       ...   \n",
       "469       470   0   0.000  19350_1                 Coral reefs_maui             \n",
       "470       471   0   1.664  19347_1  19350_1        Coral reefs_maui             \n",
       "471       472   0   0.467  19347_1  19350_1        Coral reefs_maui             \n",
       "472       473   0   5.018  19347_1  19350_1        Coral reefs_maui             \n",
       "473       474   0   0.231  19350_1                 Coral reefs_maui             \n",
       "\n",
       "    agency                publishdate  ... createdate modifieddate modifiedby  \\\n",
       "0           1899-12-30T00:00:00+00:00  ...       None         None       None   \n",
       "1           1899-12-30T00:00:00+00:00  ...       None         None       None   \n",
       "2           1899-12-30T00:00:00+00:00  ...       None         None       None   \n",
       "3           1899-12-30T00:00:00+00:00  ...       None         None       None   \n",
       "4           1899-12-30T00:00:00+00:00  ...       None         None       None   \n",
       "..     ...                        ...  ...        ...          ...        ...   \n",
       "469         1899-12-30T00:00:00+00:00  ...       None         None       None   \n",
       "470         1899-12-30T00:00:00+00:00  ...       None         None       None   \n",
       "471         1899-12-30T00:00:00+00:00  ...       None         None       None   \n",
       "472         1899-12-30T00:00:00+00:00  ...       None         None       None   \n",
       "473         1899-12-30T00:00:00+00:00  ...       None         None       None   \n",
       "\n",
       "                  deliverydate sourceid severity comments   st_areashape  \\\n",
       "0    2016-09-13T00:00:00+00:00     None     None     None  205258.698180   \n",
       "1    2016-09-13T00:00:00+00:00     None     None     None  136540.403761   \n",
       "2    2016-09-13T00:00:00+00:00     None     None     None   98952.901967   \n",
       "3    2016-09-13T00:00:00+00:00     None     None     None  316255.862683   \n",
       "4    2016-09-13T00:00:00+00:00     None     None     None  365061.336994   \n",
       "..                         ...      ...      ...      ...            ...   \n",
       "469  2016-09-13T00:00:00+00:00     None     None     None       0.120163   \n",
       "470  2016-09-13T00:00:00+00:00     None     None     None    6732.837735   \n",
       "471  2016-09-13T00:00:00+00:00     None     None     None    1890.686633   \n",
       "472  2016-09-13T00:00:00+00:00     None     None     None   20309.512520   \n",
       "473  2016-09-13T00:00:00+00:00     None     None     None     936.058920   \n",
       "\n",
       "     st_perimetershape                                           geometry  \n",
       "0          2627.625559  POLYGON ((-155.89825 20.23193, -155.89826 20.2...  \n",
       "1          1660.745763  POLYGON ((-155.90107 20.22022, -155.90108 20.2...  \n",
       "2          1339.625457  POLYGON ((-155.90286 20.21338, -155.90282 20.2...  \n",
       "3          3513.999694  POLYGON ((-155.90131 20.18303, -155.90127 20.1...  \n",
       "4          3639.728460  POLYGON ((-155.89961 20.16625, -155.89960 20.1...  \n",
       "..                 ...                                                ...  \n",
       "469           1.674088  POLYGON ((-156.52241 20.77858, -156.52241 20.7...  \n",
       "470        1016.144926  MULTIPOLYGON (((-156.51905 20.78111, -156.5190...  \n",
       "471         484.262692  MULTIPOLYGON (((-156.51542 20.78764, -156.5155...  \n",
       "472         775.651696  POLYGON ((-156.49815 20.79667, -156.49861 20.7...  \n",
       "473         281.301663  MULTIPOLYGON (((-156.46213 20.78009, -156.4621...  \n",
       "\n",
       "[474 rows x 21 columns]"
      ]
     },
     "execution_count": 7,
     "metadata": {},
     "output_type": "execute_result"
    }
   ],
   "source": [
    "\n",
    "gdf = geopandas.read_file(url_coral_reef)\n",
    "gdf"
   ]
  },
  {
   "cell_type": "code",
   "execution_count": null,
   "metadata": {},
   "outputs": [],
   "source": []
  }
 ],
 "metadata": {
  "interpreter": {
   "hash": "4dce84d1d0b0a2614014f50ddc754a85fcae7539a149decca85d87d7385cd97c"
  },
  "kernelspec": {
   "display_name": "Python 3.10.2 ('gps_project')",
   "language": "python",
   "name": "python3"
  },
  "language_info": {
   "codemirror_mode": {
    "name": "ipython",
    "version": 3
   },
   "file_extension": ".py",
   "mimetype": "text/x-python",
   "name": "python",
   "nbconvert_exporter": "python",
   "pygments_lexer": "ipython3",
   "version": "3.10.2"
  },
  "orig_nbformat": 4
 },
 "nbformat": 4,
 "nbformat_minor": 2
}
