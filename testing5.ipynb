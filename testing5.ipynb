{
 "cells": [
  {
   "cell_type": "code",
   "execution_count": 7,
   "metadata": {},
   "outputs": [],
   "source": [
    "import geopandas as gpd\n",
    "import pandas as pd\n",
    "import json \n",
    "import psycopg2 "
   ]
  },
  {
   "cell_type": "code",
   "execution_count": 17,
   "metadata": {},
   "outputs": [],
   "source": [
    "#get shark attacks geojson from inputted coordinates\n",
    "   #query that gives a Feature Collection object\n",
    "query_shark_attacks = '''SELECT jsonb_build_object(\n",
    "      'type',     'FeatureCollection',\n",
    "      'features', jsonb_agg(features.feature)\n",
    "   )\n",
    "   FROM (\n",
    "   SELECT jsonb_build_object(\n",
    "      'type',       'Feature',\n",
    "      'id',          id,\n",
    "      'geometry',   ST_AsGeoJSON(geometry)::jsonb,\n",
    "      'properties', to_jsonb(inputs) - 'id' - 'geometry'\n",
    "   ) AS feature\n",
    "   FROM (SELECT \n",
    "      s.\"Date\", s.\"Time\", s.\"Location\", s.\"Location_attack\", s.\"Location_attack2\", s.full_location, s.\"Location_attack3\", s.\"Activity\", s.\"Shark\", s.geometry, s.id\n",
    "      FROM shark_attacks as s\n",
    "      WHERE st_intersects(s.geometry, \n",
    "                  st_transform(\n",
    "                     st_buffer(\n",
    "                        st_transform(\n",
    "                           st_setsrid(\n",
    "                              st_makepoint(-158.073760, 21.616998),4326),26904),20000),4326)\n",
    "                  )\n",
    "   ) inputs) features'''"
   ]
  },
  {
   "cell_type": "code",
   "execution_count": 19,
   "metadata": {},
   "outputs": [],
   "source": [
    "connection = psycopg2.connect(database=\"geotech_ocean_haz\", user=\"postgres\", password = \"postgres\")"
   ]
  },
  {
   "cell_type": "code",
   "execution_count": 20,
   "metadata": {},
   "outputs": [
    {
     "name": "stderr",
     "output_type": "stream",
     "text": [
      "C:\\Users\\johnk\\anaconda3\\envs\\ocean_haz\\lib\\site-packages\\pandas\\io\\sql.py:758: UserWarning: pandas only support SQLAlchemy connectable(engine/connection) ordatabase string URI or sqlite3 DBAPI2 connectionother DBAPI2 objects are not tested, please consider using SQLAlchemy\n",
      "  warnings.warn(\n"
     ]
    }
   ],
   "source": [
    " #Reads the query and store it in a dataframe\n",
    "feature_collection_shark_attacks = pd.read_sql(query_shark_attacks, connection)"
   ]
  },
  {
   "cell_type": "code",
   "execution_count": 21,
   "metadata": {},
   "outputs": [],
   "source": [
    "   #Getting geojson dictionary by calling iloc[0] on the jsonb_build_object column\n",
    "   feature_collection_dict_shark_attacks = feature_collection_shark_attacks.iloc[0]['jsonb_build_object']"
   ]
  },
  {
   "cell_type": "code",
   "execution_count": 22,
   "metadata": {},
   "outputs": [
    {
     "name": "stdout",
     "output_type": "stream",
     "text": [
      "{\"type\": \"FeatureCollection\", \"features\": [{\"id\": 4, \"type\": \"Feature\", \"geometry\": {\"type\": \"Point\", \"coordinates\": [-158.036483727, 21.48343645]}, \"properties\": {\"Date\": \"03/05/2021\", \"Time\": \" 3:30 pm\", \"Shark\": \"Requiem shark, length 5-6 feet\", \"Activity\": \"Surfing\", \"Location\": \"Oahu\", \"full_location\": \"Oahu, Kaneohe\", \"Location_attack\": \" Kaneohe\", \"Location_attack2\": \" North Beach\", \"Location_attack3\": \" approx 10 yds from shore\"}}, {\"id\": 17, \"type\": \"Feature\", \"geometry\": {\"type\": \"Point\", \"coordinates\": [-158.036483727, 21.48343645]}, \"properties\": {\"Date\": \"18/09/2019\", \"Time\": \" 10:10 am\", \"Shark\": \"Galapagos shark, length 5-9 feet.\", \"Activity\": \"Swimming with sharks\", \"Location\": \"Oahu\", \"full_location\": \"Oahu, Haleiwa\", \"Location_attack\": \" Haleiwa\", \"Location_attack2\": \" approx 3 miles from shore\", \"Location_attack3\": null}}, {\"id\": 18, \"type\": \"Feature\", \"geometry\": {\"type\": \"Point\", \"coordinates\": [-158.036483727, 21.48343645]}, \"properties\": {\"Date\": \"18/09/2019\", \"Time\": \" 10:10 am\", \"Shark\": \"Galapagos shark, length 5-9 feet.\", \"Activity\": \"Swimming with sharks\", \"Location\": \"Oahu\", \"full_location\": \"Oahu, Haleiwa\", \"Location_attack\": \" Haleiwa\", \"Location_attack2\": \" approx 3 miles from shore\", \"Location_attack3\": null}}, {\"id\": 19, \"type\": \"Feature\", \"geometry\": {\"type\": \"Point\", \"coordinates\": [-158.036483727, 21.48343645]}, \"properties\": {\"Date\": \"18/09/2019\", \"Time\": \" 10:10 am\", \"Shark\": \"Galapagos or sandbar, length unknown.\", \"Activity\": \"Swimming with sharks\", \"Location\": \"Oahu\", \"full_location\": \"Oahu, Haleiwa\", \"Location_attack\": \" Haleiwa\", \"Location_attack2\": \" approx 3 miles from shore\", \"Location_attack3\": null}}, {\"id\": 21, \"type\": \"Feature\", \"geometry\": {\"type\": \"Point\", \"coordinates\": [-158.036483727, 21.48343645]}, \"properties\": {\"Date\": \"11/08/2019\", \"Time\": \" 7:00 pm\", \"Shark\": \"Species and length unknown.\", \"Activity\": \"Surfing\", \"Location\": \"Oahu\", \"full_location\": \"Oahu, Makaha Beach\", \"Location_attack\": \" Makaha Beach\", \"Location_attack2\": \" approx 100 yds from shore\", \"Location_attack3\": null}}, {\"id\": 22, \"type\": \"Feature\", \"geometry\": {\"type\": \"Point\", \"coordinates\": [-158.036483727, 21.48343645]}, \"properties\": {\"Date\": \"29/07/2019\", \"Time\": \" 10:25 pm\", \"Shark\": \"Cookiecutter shark, length unknown.\", \"Activity\": \"Swimming\", \"Location\": \"Oahu\", \"full_location\": \"Oahu, Kaiwi Channel\", \"Location_attack\": \" Kaiwi Channel\", \"Location_attack2\": \" approx 11 miles east-southeast of Sandy Beach\", \"Location_attack3\": null}}, {\"id\": 24, \"type\": \"Feature\", \"geometry\": {\"type\": \"Point\", \"coordinates\": [-158.036483727, 21.48343645]}, \"properties\": {\"Date\": \"08/05/2019\", \"Time\": \" approx 9:00 am\", \"Shark\": \"Requiem shark, length unknown.\", \"Activity\": \"Swimming with sharks\", \"Location\": \"Oahu\", \"full_location\": \"Oahu, Haleiwa\", \"Location_attack\": \" Haleiwa\", \"Location_attack2\": \" approx 3 miles from shore\", \"Location_attack3\": null}}, {\"id\": 26, \"type\": \"Feature\", \"geometry\": {\"type\": \"Point\", \"coordinates\": [-158.036483727, 21.48343645]}, \"properties\": {\"Date\": \"06/04/2019\", \"Time\": \" 1:00 am\", \"Shark\": \"Cookiecutter shark, length estimated at 1 foot.\", \"Activity\": \"Swimming\", \"Location\": \"Oahu\", \"full_location\": \"Oahu, Kaiwi Channel\", \"Location_attack\": \" Kaiwi Channel\", \"Location_attack2\": \" approx 12 miles east-southeast of Koko Head\", \"Location_attack3\": null}}, {\"id\": 27, \"type\": \"Feature\", \"geometry\": {\"type\": \"Point\", \"coordinates\": [-158.036483727, 21.48343645]}, \"properties\": {\"Date\": \"16/03/2019\", \"Time\": \" 3:30 am\", \"Shark\": \"Cookiecutter shark, length unknown.\", \"Activity\": \"Swimming\", \"Location\": \"Oahu\", \"full_location\": \"Oahu, Kaiwi Channel\", \"Location_attack\": \" Kaiwi Channel\", \"Location_attack2\": \" approx 12 miles east-southeast of Koko Head\", \"Location_attack3\": null}}, {\"id\": 29, \"type\": \"Feature\", \"geometry\": {\"type\": \"Point\", \"coordinates\": [-158.036483727, 21.48343645]}, \"properties\": {\"Date\": \"08/09/2018\", \"Time\": \" 8:25 am\", \"Shark\": \"Tiger shark, length estimated at 12 feet.\", \"Activity\": \"Surfing\", \"Location\": \"Oahu\", \"full_location\": \"Oahu, Laie\", \"Location_attack\": \" Laie\", \"Location_attack2\": \" Pounders\", \"Location_attack3\": \" approx one-half mile from shore\"}}, {\"id\": 32, \"type\": \"Feature\", \"geometry\": {\"type\": \"Point\", \"coordinates\": [-158.036483727, 21.48343645]}, \"properties\": {\"Date\": \"31/12/2017\", \"Time\": \" 6:00 pm\", \"Shark\": \"Tiger shark, length 10-12 feet.\", \"Activity\": \"Surfing\", \"Location\": \"Oahu\", \"full_location\": \"Oahu, Kawailoa\", \"Location_attack\": \" Kawailoa\", \"Location_attack2\": \" \\\"Hulton's\\\"\", \"Location_attack3\": \" approx 25 yds from shore\"}}, {\"id\": 33, \"type\": \"Feature\", \"geometry\": {\"type\": \"Point\", \"coordinates\": [-158.036483727, 21.48343645]}, \"properties\": {\"Date\": \"02/11/2017\", \"Time\": \" 2:15 pm\", \"Shark\": \"Species unknown, length estimated at 8 feet.\", \"Activity\": \"Surfing\", \"Location\": \"Oahu\", \"full_location\": \"Oahu, Makaha Beach\", \"Location_attack\": \" Makaha Beach\", \"Location_attack2\": \" approx 30 yds from shore\", \"Location_attack3\": null}}, {\"id\": 34, \"type\": \"Feature\", \"geometry\": {\"type\": \"Point\", \"coordinates\": [-158.036483727, 21.48343645]}, \"properties\": {\"Date\": \"26/10/2017\", \"Time\": \" 2:10 pm\", \"Shark\": \"Tiger shark, length estimated at 8 feet.\", \"Activity\": \"Stand-up paddleboarding\", \"Location\": \"Oahu\", \"full_location\": \"Oahu, Kalaeloa\", \"Location_attack\": \" Kalaeloa\", \"Location_attack2\": \" White Plains Beach\", \"Location_attack3\": \" approx 200 yds from shore\"}}, {\"id\": 40, \"type\": \"Feature\", \"geometry\": {\"type\": \"Point\", \"coordinates\": [-158.036483727, 21.48343645]}, \"properties\": {\"Date\": \"07/09/2016\", \"Time\": \" 2:25 pm\", \"Shark\": \"Species and length unknown.\", \"Activity\": \"Swimming\", \"Location\": \"Oahu\", \"full_location\": \"Oahu, Makaha Beach\", \"Location_attack\": \" Makaha Beach\", \"Location_attack2\": \" approx 300 yds from shore\", \"Location_attack3\": null}}, {\"id\": 50, \"type\": \"Feature\", \"geometry\": {\"type\": \"Point\", \"coordinates\": [-158.036483727, 21.48343645]}, \"properties\": {\"Date\": \"28/10/2015\", \"Time\": \" 2:50 p.m.\", \"Shark\": \"Tiger shark, length estimated at 10 feet.\", \"Activity\": \"Body boarding\", \"Location\": \"Oahu\", \"full_location\": \"Oahu, Makaha Beach\", \"Location_attack\": \" Makaha Beach\", \"Location_attack2\": \" approx 50-60 yds from shore\", \"Location_attack3\": null}}, {\"id\": 51, \"type\": \"Feature\", \"geometry\": {\"type\": \"Point\", \"coordinates\": [-158.036483727, 21.48343645]}, \"properties\": {\"Date\": \"17/10/2015\", \"Time\": \" 11:20 am\", \"Shark\": \"Tiger shark, length 10-12 feet.\", \"Activity\": \"Swimming\", \"Location\": \"Oahu\", \"full_location\": \"Oahu, Kailua\", \"Location_attack\": \" Kailua\", \"Location_attack2\": \" Lanikai\", \"Location_attack3\": \" approx 600 yds from shore\"}}, {\"id\": 52, \"type\": \"Feature\", \"geometry\": {\"type\": \"Point\", \"coordinates\": [-158.036483727, 21.48343645]}, \"properties\": {\"Date\": \"09/10/2015\", \"Time\": \" 10:00 am\", \"Shark\": \"Tiger shark, length 10-12 feet.\", \"Activity\": \"Surfing\", \"Location\": \"Oahu\", \"full_location\": \"Oahu, Kawailoa\", \"Location_attack\": \" Kawailoa\", \"Location_attack2\": \" \\\"Leftovers\\\"\", \"Location_attack3\": \" 150-200 yds from shore\"}}, {\"id\": 72, \"type\": \"Feature\", \"geometry\": {\"type\": \"Point\", \"coordinates\": [-158.036483727, 21.48343645]}, \"properties\": {\"Date\": \"29/07/2013\", \"Time\": \" 2:00 pm\", \"Shark\": \"Tiger shark, length 8-10 feet.\", \"Activity\": \"Surfing\", \"Location\": \"Oahu\", \"full_location\": \"Oahu, Kalaeloa\", \"Location_attack\": \" Kalaeloa\", \"Location_attack2\": \" White Plains Beach\", \"Location_attack3\": \" approx 20 yards from shore\"}}, {\"id\": 86, \"type\": \"Feature\", \"geometry\": {\"type\": \"Point\", \"coordinates\": [-158.036483727, 21.48343645]}, \"properties\": {\"Date\": \"03/04/2012\", \"Time\": \" 12:30 pm\", \"Shark\": \"Tiger shark, length 10 feet.\", \"Activity\": \"Surfing\", \"Location\": \"Oahu\", \"full_location\": \"Oahu, Kawailoa\", \"Location_attack\": \" Kawailoa\", \"Location_attack2\": \" Alligators\", \"Location_attack3\": \" approx 30-45 yards from shore\"}}, {\"id\": 88, \"type\": \"Feature\", \"geometry\": {\"type\": \"Point\", \"coordinates\": [-158.036483727, 21.48343645]}, \"properties\": {\"Date\": \"04/09/2011\", \"Time\": \" 11:30 am\", \"Shark\": \"Tiger shark, length 10 feet.\", \"Activity\": \"Surfing\", \"Location\": \"Oahu\", \"full_location\": \"Oahu, Kalaeloa\", \"Location_attack\": \" Kalaeloa\", \"Location_attack2\": \" Nimitz Beach\", \"Location_attack3\": \" approx 30 yards from shore\"}}, {\"id\": 97, \"type\": \"Feature\", \"geometry\": {\"type\": \"Point\", \"coordinates\": [-158.036483727, 21.48343645]}, \"properties\": {\"Date\": \"09/09/2008\", \"Time\": \" 4:30 pm\", \"Shark\": \"Species and length unknown.\", \"Activity\": \"Surfing\", \"Location\": \"Oahu\", \"full_location\": \"Oahu, Kaaawa\", \"Location_attack\": \" Kaaawa\", \"Location_attack2\": \" Makaua\", \"Location_attack3\": \" approx 500 yds from shore\"}}, {\"id\": 99, \"type\": \"Feature\", \"geometry\": {\"type\": \"Point\", \"coordinates\": [-158.036483727, 21.48343645]}, \"properties\": {\"Date\": \"10/12/2007\", \"Time\": \" 11:00 am\", \"Shark\": \"Tiger shark, length 6-8 feet.\", \"Activity\": \"Surfing\", \"Location\": \"Oahu\", \"full_location\": \"Oahu, Haleiwa\", \"Location_attack\": \" Haleiwa\", \"Location_attack2\": \" Kaiaka \\\"Walls\\\"\", \"Location_attack3\": \" approx 200 yds from shore\"}}, {\"id\": 101, \"type\": \"Feature\", \"geometry\": {\"type\": \"Point\", \"coordinates\": [-158.036483727, 21.48343645]}, \"properties\": {\"Date\": \"28/08/2007\", \"Time\": \" 4:30 pm\", \"Shark\": \"Tiger shark, length 10-12 feet.\", \"Activity\": \"Body boarding\", \"Location\": \"Oahu\", \"full_location\": \"Oahu, Kaaawa\", \"Location_attack\": \" Kaaawa\", \"Location_attack2\": \" Makaua\", \"Location_attack3\": \" approx 400 yds from shore\"}}, {\"id\": 102, \"type\": \"Feature\", \"geometry\": {\"type\": \"Point\", \"coordinates\": [-158.036483727, 21.48343645]}, \"properties\": {\"Date\": \"19/07/2007\", \"Time\": \" 3:00 pm\", \"Shark\": \"Tiger shark, length 8 feet.\", \"Activity\": \"Snorkeling\", \"Location\": \"Oahu\", \"full_location\": \"Oahu, Waimanalo\", \"Location_attack\": \" Waimanalo\", \"Location_attack2\": \" Bellows\", \"Location_attack3\": \" approx 150 yds from shore\"}}, {\"id\": 103, \"type\": \"Feature\", \"geometry\": {\"type\": \"Point\", \"coordinates\": [-158.036483727, 21.48343645]}, \"properties\": {\"Date\": \"24/06/2007\", \"Time\": \" 7:05 am\", \"Shark\": \"Tiger shark, length 6 feet.\", \"Activity\": \"Surfing\", \"Location\": \"Oahu\", \"full_location\": \"Oahu, Mokulia\", \"Location_attack\": \" Mokulia\", \"Location_attack2\": \" Silva's Channel\", \"Location_attack3\": \" approx 50 yds from shore\"}}, {\"id\": 107, \"type\": \"Feature\", \"geometry\": {\"type\": \"Point\", \"coordinates\": [-158.036483727, 21.48343645]}, \"properties\": {\"Date\": \"31/05/2006\", \"Time\": \" 1:30 pm\", \"Shark\": \"Tiger shark, length 8-10 feet.\", \"Activity\": \"Spearfishing\", \"Location\": \"Oahu\", \"full_location\": \"Oahu, Kawailoa\", \"Location_attack\": \" Kawailoa\", \"Location_attack2\": \" \\\"Marijuanas\\\"\", \"Location_attack3\": \" approx 150 yds from shore\"}}, {\"id\": 109, \"type\": \"Feature\", \"geometry\": {\"type\": \"Point\", \"coordinates\": [-158.036483727, 21.48343645]}, \"properties\": {\"Date\": \"23/03/2006\", \"Time\": \" 11:30 am\", \"Shark\": \"Tiger shark, length 10 feet.\", \"Activity\": \"Surfing\", \"Location\": \"Oahu\", \"full_location\": \"Oahu, Kawailoa\", \"Location_attack\": \" Kawailoa\", \"Location_attack2\": \" \\\"Leftovers\\\"\", \"Location_attack3\": \" approx 130 yds from shore\"}}, {\"id\": 114, \"type\": \"Feature\", \"geometry\": {\"type\": \"Point\", \"coordinates\": [-158.036483727, 21.48343645]}, \"properties\": {\"Date\": \"16/02/2005\", \"Time\": \" 2:30 pm\", \"Shark\": \"Tiger shark, length 8 feet.\", \"Activity\": \"Surfing\", \"Location\": \"Oahu\", \"full_location\": \"Oahu, Sunset Beach\", \"Location_attack\": \" Sunset Beach\", \"Location_attack2\": \" Rocky Point\", \"Location_attack3\": \" 40 yds from shore\"}}, {\"id\": 121, \"type\": \"Feature\", \"geometry\": {\"type\": \"Point\", \"coordinates\": [-158.036483727, 21.48343645]}, \"properties\": {\"Date\": \"24/06/2003\", \"Time\": \" 8:00 am\", \"Shark\": \"Species uncertain, length 12-14 feet.\", \"Activity\": \"Snorkeling\", \"Location\": \"Oahu\", \"full_location\": \"Oahu, Makua\", \"Location_attack\": \" Makua\", \"Location_attack2\": \" 75 yds from shore\", \"Location_attack3\": null}}, {\"id\": 125, \"type\": \"Feature\", \"geometry\": {\"type\": \"Point\", \"coordinates\": [-158.036483727, 21.48343645]}, \"properties\": {\"Date\": \"27/09/2002\", \"Time\": \" 3:35 pm\", \"Shark\": \"Tiger shark, length 8-10 feet.\", \"Activity\": \"Fishing from surfboard\", \"Location\": \"Oahu\", \"full_location\": \"Oahu, Kahala\", \"Location_attack\": \" Kahala\", \"Location_attack2\": \" 100 ft beyond reef crest\", \"Location_attack3\": null}}, {\"id\": 127, \"type\": \"Feature\", \"geometry\": {\"type\": \"Point\", \"coordinates\": [-158.036483727, 21.48343645]}, \"properties\": {\"Date\": \"28/08/2002\", \"Time\": \" 3:45 pm\", \"Shark\": \"Tiger shark, length 10 feet.\", \"Activity\": \"Surfing\", \"Location\": \"Oahu\", \"full_location\": \"Oahu, Kewalo\", \"Location_attack\": \" Kewalo\", \"Location_attack2\": \" harbor channel 4-5 ft from reef edge\", \"Location_attack3\": null}}, {\"id\": 132, \"type\": \"Feature\", \"geometry\": {\"type\": \"Point\", \"coordinates\": [-158.036483727, 21.48343645]}, \"properties\": {\"Date\": \"11/04/2001\", \"Time\": \" 7:00 am\", \"Shark\": \"Whitetip reef shark, length 3 feet.\", \"Activity\": \"Surfing\", \"Location\": \"Oahu\", \"full_location\": \"Oahu, Ewa Beach\", \"Location_attack\": \" Ewa Beach\", \"Location_attack2\": null, \"Location_attack3\": null}}, {\"id\": 133, \"type\": \"Feature\", \"geometry\": {\"type\": \"Point\", \"coordinates\": [-158.036483727, 21.48343645]}, \"properties\": {\"Date\": \"23/03/2001\", \"Time\": \" 2:40 pm\", \"Shark\": \"Requiem shark, length 3-5 feet.\", \"Activity\": \"Body boarding\", \"Location\": \"Oahu\", \"full_location\": \"Oahu, Sandy Beach\", \"Location_attack\": \" Sandy Beach\", \"Location_attack2\": \" 30-40 yds offschore\", \"Location_attack3\": null}}, {\"id\": 138, \"type\": \"Feature\", \"geometry\": {\"type\": \"Point\", \"coordinates\": [-158.036483727, 21.48343645]}, \"properties\": {\"Date\": \"09/08/1999\", \"Time\": \" 1:30 pm\", \"Shark\": \"Requiem shark, length unknown.\", \"Activity\": \"Swimming\", \"Location\": \"Oahu\", \"full_location\": \"Oahu, Mokulua Island\", \"Location_attack\": \" Mokulua Island\", \"Location_attack2\": \" back lagoon\", \"Location_attack3\": null}}, {\"id\": 142, \"type\": \"Feature\", \"geometry\": {\"type\": \"Point\", \"coordinates\": [-158.036483727, 21.48343645]}, \"properties\": {\"Date\": \"25/06/1997\", \"Time\": \" 11:00 pm\", \"Shark\": \"Species unknown, length 8 feet.\", \"Activity\": \"Spearfishing\", \"Location\": \"Oahu\", \"full_location\": \"Oahu, Sunset Beach\", \"Location_attack\": \" Sunset Beach\", \"Location_attack2\": \" 40 yds from shore\", \"Location_attack3\": null}}]}\n"
     ]
    }
   ],
   "source": [
    " #Converting to geojson\n",
    "shark_feature_collection = json.dumps(feature_collection_dict_shark_attacks)\n",
    "print(shark_feature_collection)"
   ]
  }
 ],
 "metadata": {
  "interpreter": {
   "hash": "c5d48660e8b64b3726cc30430e20509030befa7750879419a2411a84d64b9632"
  },
  "kernelspec": {
   "display_name": "Python 3.10.2 ('ocean_haz')",
   "language": "python",
   "name": "python3"
  },
  "language_info": {
   "codemirror_mode": {
    "name": "ipython",
    "version": 3
   },
   "file_extension": ".py",
   "mimetype": "text/x-python",
   "name": "python",
   "nbconvert_exporter": "python",
   "pygments_lexer": "ipython3",
   "version": "3.10.2"
  },
  "orig_nbformat": 4
 },
 "nbformat": 4,
 "nbformat_minor": 2
}
